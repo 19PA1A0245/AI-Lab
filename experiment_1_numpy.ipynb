{
  "nbformat": 4,
  "nbformat_minor": 0,
  "metadata": {
    "colab": {
      "name": "experiment 1 numpy.ipynb",
      "provenance": [],
      "authorship_tag": "ABX9TyOnXwUc+N1iwdmUnpIHExJb",
      "include_colab_link": true
    },
    "kernelspec": {
      "name": "python3",
      "display_name": "Python 3"
    }
  },
  "cells": [
    {
      "cell_type": "markdown",
      "metadata": {
        "id": "view-in-github",
        "colab_type": "text"
      },
      "source": [
        "<a href=\"https://colab.research.google.com/github/19PA1A0245/AI-Lab/blob/master/experiment_1_numpy.ipynb\" target=\"_parent\"><img src=\"https://colab.research.google.com/assets/colab-badge.svg\" alt=\"Open In Colab\"/></a>"
      ]
    },
    {
      "cell_type": "markdown",
      "metadata": {
        "id": "oWdEU_6puoMb",
        "colab_type": "text"
      },
      "source": [
        "#Experiment 1 : Numpy"
      ]
    },
    {
      "cell_type": "markdown",
      "metadata": {
        "id": "sG6XVwl9u7ck",
        "colab_type": "text"
      },
      "source": [
        "##i)Different ways to create a NumPy arrays"
      ]
    },
    {
      "cell_type": "markdown",
      "metadata": {
        "id": "RVin7STMvHaX",
        "colab_type": "text"
      },
      "source": [
        "###a)create a numpy array using a list"
      ]
    },
    {
      "cell_type": "code",
      "metadata": {
        "id": "D-1i92gCvQXg",
        "colab_type": "code",
        "colab": {
          "base_uri": "https://localhost:8080/",
          "height": 51
        },
        "outputId": "e11235b8-f4a5-4143-d282-79e35a580c4b"
      },
      "source": [
        "import numpy as np\n",
        "x = np.array([[2,4,5],[6,7,8]])\n",
        "print(x)"
      ],
      "execution_count": 1,
      "outputs": [
        {
          "output_type": "stream",
          "text": [
            "[[2 4 5]\n",
            " [6 7 8]]\n"
          ],
          "name": "stdout"
        }
      ]
    },
    {
      "cell_type": "markdown",
      "metadata": {
        "id": "t9UOqf02vwlw",
        "colab_type": "text"
      },
      "source": [
        "##ii)Add,remove,modify elements in an array"
      ]
    },
    {
      "cell_type": "markdown",
      "metadata": {
        "id": "m_N4vvDrwLly",
        "colab_type": "text"
      },
      "source": [
        "###Add"
      ]
    },
    {
      "cell_type": "code",
      "metadata": {
        "id": "7sC96STmwNIZ",
        "colab_type": "code",
        "colab": {
          "base_uri": "https://localhost:8080/",
          "height": 34
        },
        "outputId": "7c70d3ff-a45c-4555-9518-9b6bf068b1a6"
      },
      "source": [
        "p=np.array([2,4,5])\n",
        "q=np.append(p,[6,7,8])\n",
        "print(q)"
      ],
      "execution_count": 2,
      "outputs": [
        {
          "output_type": "stream",
          "text": [
            "[2 4 5 6 7 8]\n"
          ],
          "name": "stdout"
        }
      ]
    },
    {
      "cell_type": "markdown",
      "metadata": {
        "id": "snNxacllwk88",
        "colab_type": "text"
      },
      "source": [
        "###Remove"
      ]
    },
    {
      "cell_type": "code",
      "metadata": {
        "id": "fBN5TDJzwnUG",
        "colab_type": "code",
        "colab": {
          "base_uri": "https://localhost:8080/",
          "height": 34
        },
        "outputId": "1b73b3bd-4fbd-416f-8683-c7d92c272e19"
      },
      "source": [
        "x=np.delete(p,2)\n",
        "print(x)"
      ],
      "execution_count": 16,
      "outputs": [
        {
          "output_type": "stream",
          "text": [
            "[1 2 4]\n"
          ],
          "name": "stdout"
        }
      ]
    },
    {
      "cell_type": "markdown",
      "metadata": {
        "id": "BwYranTIxJPJ",
        "colab_type": "text"
      },
      "source": [
        "###Modify"
      ]
    },
    {
      "cell_type": "code",
      "metadata": {
        "id": "chgz6Ef2xLTO",
        "colab_type": "code",
        "colab": {
          "base_uri": "https://localhost:8080/",
          "height": 34
        },
        "outputId": "514c070d-d7b1-4538-e86d-de89bf0dbe40"
      },
      "source": [
        "x[x>5]=-1\n",
        "print(x)"
      ],
      "execution_count": 8,
      "outputs": [
        {
          "output_type": "stream",
          "text": [
            "[2 4]\n"
          ],
          "name": "stdout"
        }
      ]
    },
    {
      "cell_type": "markdown",
      "metadata": {
        "id": "FPeU5PnPytnT",
        "colab_type": "text"
      },
      "source": [
        "##iii)Arthematic operations on Numpy array"
      ]
    },
    {
      "cell_type": "code",
      "metadata": {
        "id": "HQfhq5ZBy2IG",
        "colab_type": "code",
        "colab": {
          "base_uri": "https://localhost:8080/",
          "height": 323
        },
        "outputId": "cc34578e-e23d-48d1-e537-b8f98b29584b"
      },
      "source": [
        "import numpy as np\n",
        "p=np.random.random((3,3))\n",
        "q=np.random.random((3,3))\n",
        "num_sum=np.add(p,q)\n",
        "num_diff=np.subtract(p,q)\n",
        "num_prod=np.multiply(p,q)\n",
        "num_quo=np.divide(p,q)\n",
        "num_mod=np.mod(p,q)\n",
        "num_pow=np.power(p,q)\n",
        "print(num_sum)\n",
        "print(num_diff)\n",
        "print(num_prod)\n",
        "print(num_quo)\n",
        "print(num_mod)\n",
        "print(num_pow)\n"
      ],
      "execution_count": 12,
      "outputs": [
        {
          "output_type": "stream",
          "text": [
            "[[0.82948286 1.36601552 0.71700642]\n",
            " [1.58841664 0.85925457 0.97384643]\n",
            " [0.96665946 1.45589421 1.1867166 ]]\n",
            "[[ 0.11599905  0.51429813 -0.4097391 ]\n",
            " [ 0.11920741  0.26144376  0.2480446 ]\n",
            " [-0.91720743 -0.51279381 -0.72131527]]\n",
            "[[0.16864651 0.40037396 0.08655302]\n",
            " [0.62721426 0.1674914  0.22171268]\n",
            " [0.02329026 0.46416761 0.22200015]]\n",
            "[[1.32516238 2.20767318 0.27270339]\n",
            " [1.16227425 1.87467056 1.68350502]\n",
            " [0.02625028 0.4790502  0.24391696]]\n",
            "[[0.11599905 0.08843943 0.15363366]\n",
            " [0.11920741 0.26144376 0.2480446 ]\n",
            " [0.02472601 0.4715502  0.23270067]]\n",
            "[[0.76546347 0.97406315 0.34808763]\n",
            " [0.89038617 0.84103284 0.83625765]\n",
            " [0.03065195 0.47713269 0.24883694]]\n"
          ],
          "name": "stdout"
        }
      ]
    },
    {
      "cell_type": "markdown",
      "metadata": {
        "id": "LzAZma5J1UMZ",
        "colab_type": "text"
      },
      "source": [
        "##iv)Slicing and iterating of Numpy arrays\n",
        "\n",
        "\n",
        "\n"
      ]
    },
    {
      "cell_type": "markdown",
      "metadata": {
        "id": "qFxdn0SQ17vf",
        "colab_type": "text"
      },
      "source": [
        "###Slicing"
      ]
    },
    {
      "cell_type": "code",
      "metadata": {
        "id": "EkrE4Wpl1gui",
        "colab_type": "code",
        "colab": {
          "base_uri": "https://localhost:8080/",
          "height": 34
        },
        "outputId": "588b8ca2-a46f-49c5-d47c-3b415b605def"
      },
      "source": [
        "import numpy as np\n",
        "arr=np.array([1,2,3,4,5,6,7])\n",
        "print(arr[1:7])"
      ],
      "execution_count": 13,
      "outputs": [
        {
          "output_type": "stream",
          "text": [
            "[2 3 4 5 6 7]\n"
          ],
          "name": "stdout"
        }
      ]
    },
    {
      "cell_type": "markdown",
      "metadata": {
        "id": "31X5v7qh2VTp",
        "colab_type": "text"
      },
      "source": [
        "###Iterating"
      ]
    },
    {
      "cell_type": "code",
      "metadata": {
        "id": "C3msPQ1I2YqP",
        "colab_type": "code",
        "colab": {
          "base_uri": "https://localhost:8080/",
          "height": 136
        },
        "outputId": "d7958cba-3cd5-4a20-f2e4-adce4f82af7b"
      },
      "source": [
        "for x in arr:\n",
        "  print(x)"
      ],
      "execution_count": 17,
      "outputs": [
        {
          "output_type": "stream",
          "text": [
            "1\n",
            "2\n",
            "3\n",
            "4\n",
            "5\n",
            "6\n",
            "7\n"
          ],
          "name": "stdout"
        }
      ]
    },
    {
      "cell_type": "markdown",
      "metadata": {
        "id": "MGqygLQR20Jy",
        "colab_type": "text"
      },
      "source": [
        "##v)Matirx operations on Numpy arrays"
      ]
    },
    {
      "cell_type": "code",
      "metadata": {
        "id": "rijF6-D42-QY",
        "colab_type": "code",
        "colab": {
          "base_uri": "https://localhost:8080/",
          "height": 119
        },
        "outputId": "3e3f1ee1-f139-4035-b8fe-5a481c04b0da"
      },
      "source": [
        "import numpy as np\n",
        "p=np.array([[1,2],[3,4]])\n",
        "q=np.array([[5,6],[7,8]])\n",
        "print(np.add(p,q))\n",
        "print(np.subtract(p,q))\n",
        "print(np.divide(p,q))\n"
      ],
      "execution_count": 15,
      "outputs": [
        {
          "output_type": "stream",
          "text": [
            "[[ 6  8]\n",
            " [10 12]]\n",
            "[[-4 -4]\n",
            " [-4 -4]]\n",
            "[[0.2        0.33333333]\n",
            " [0.42857143 0.5       ]]\n"
          ],
          "name": "stdout"
        }
      ]
    }
  ]
}